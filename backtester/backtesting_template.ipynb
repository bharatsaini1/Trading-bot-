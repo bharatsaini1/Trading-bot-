{
 "cells": [
  {
   "cell_type": "code",
   "execution_count": null,
   "id": "6b94ffc3",
   "metadata": {},
   "outputs": [],
   "source": [
    "import MetaTrader5 as mt5\n",
    "from datetime import datetime, timedelta, time\n",
    "from IPython.display import display\n",
    "from __init__ import Backtester, get_ohlc_history, create_price_fig, evaluate_backtest\n"
   ]
  },
  {
   "cell_type": "code",
   "execution_count": null,
   "id": "bd6a2d16",
   "metadata": {},
   "outputs": [],
   "source": [
    "symbol = 'EURUSD'\n",
    "start_dt = datetime(2023, 1, 1)\n",
    "end_dt = datetime.now()\n",
    "\n",
    "# get historical data\n",
    "mt5.initialize()\n",
    "ohlc = get_ohlc_history(symbol, mt5.TIMEFRAME_D1, start_dt, end_dt)\n",
    "\n",
    "sma_period = 20 \n",
    "ohlc['sma_20'] = ohlc['open'].rolling(sma_period).mean()\n",
    "\n",
    "display(ohlc)\n",
    "\n",
    "fig = create_price_fig(ohlc, indicators=['sma_20'])\n",
    "display(fig)"
   ]
  },
  {
   "cell_type": "code",
   "execution_count": null,
   "id": "097de876",
   "metadata": {},
   "outputs": [],
   "source": [
    "def get_signal(x):\n",
    "    if x['open'] > x['sma_20']:\n",
    "        return 'buy'\n",
    "    elif x['open'] < x['sma_20']:\n",
    "        return 'sell'\n",
    "    \n",
    "ohlc['signal'] = ohlc.apply(get_signal, axis=1)\n",
    "ohlc"
   ]
  },
  {
   "cell_type": "code",
   "execution_count": null,
   "id": "5d7a1e0d",
   "metadata": {},
   "outputs": [],
   "source": [
    "# create trade logic\n",
    "def on_bar(data, trades, orders):\n",
    "    volume = 100000 # 1 lots \n",
    "    \n",
    "    open_trades = trades[trades['state'] == 'open']\n",
    "    num_open_trades = open_trades.shape[0]\n",
    "    \n",
    "    # entry signal \n",
    "    if data['signal'] == 'buy' and not num_open_trades:\n",
    "        orders.open_trade(symbol, volume, 'buy')\n",
    "    \n",
    "    elif data['signal'] == 'sell' and not num_open_trades:\n",
    "        orders.open_trade(symbol, volume, 'sell')\n",
    "        \n",
    "    # exit signal\n",
    "    if num_open_trades:\n",
    "        trade = open_trades.iloc[0]\n",
    "\n",
    "        if trade['order_type'] == 'buy' and data['signal'] == 'sell':\n",
    "            orders.close_trade(trade)\n",
    "        elif trade['order_type'] == 'sell' and data['signal'] == 'buy':\n",
    "            orders.close_trade(trade)"
   ]
  },
  {
   "cell_type": "code",
   "execution_count": null,
   "id": "307d939d",
   "metadata": {},
   "outputs": [],
   "source": [
    "# backtest parameters\n",
    "starting_balance = 10000\n",
    "currency = 'USD'\n",
    "exchange_rate = 1\n",
    "commission = -7 / 100000\n",
    "\n",
    "# backtest\n",
    "bt = Backtester()\n",
    "bt.set_starting_balance(starting_balance, currency=currency)\n",
    "bt.set_exchange_rate(exchange_rate)\n",
    "bt.set_commission(commission)\n",
    "\n",
    "bt.set_historical_data(ohlc)\n",
    "bt.set_on_bar(on_bar)\n",
    "\n",
    "bt.run_backtest()\n",
    "\n",
    "bt.trades"
   ]
  },
  {
   "cell_type": "code",
   "execution_count": null,
   "id": "332fdf76",
   "metadata": {},
   "outputs": [],
   "source": [
    "pnl_chart = bt.plot_pnl()\n",
    "pnl_chart"
   ]
  },
  {
   "cell_type": "code",
   "execution_count": null,
   "id": "4d62d414",
   "metadata": {},
   "outputs": [],
   "source": [
    "backtest_fig = bt.visualize_backtest(indicators=['sma_20'])\n",
    "backtest_fig"
   ]
  },
  {
   "cell_type": "code",
   "execution_count": null,
   "id": "d25327bd",
   "metadata": {},
   "outputs": [],
   "source": [
    "evaluate_backtest(bt.trades)"
   ]
  },
  {
   "cell_type": "code",
   "execution_count": null,
   "id": "d4497723",
   "metadata": {},
   "outputs": [],
   "source": [
    "pnl_chart = bt.plot_pnl()\n",
    "pnl_chart"
   ]
  },
  {
   "cell_type": "code",
   "execution_count": null,
   "id": "27a4f537",
   "metadata": {},
   "outputs": [],
   "source": [
    "backtest_fig = bt.visualize_backtest(indicators=['sma_20'])\n",
    "backtest_fig"
   ]
  },
  {
   "cell_type": "code",
   "execution_count": null,
   "id": "6636a534",
   "metadata": {},
   "outputs": [],
   "source": [
    "evaluate_backtest(bt.trades)\n"
   ]
  },
  {
   "cell_type": "code",
   "execution_count": null,
   "id": "9a39439e",
   "metadata": {},
   "outputs": [],
   "source": []
  }
 ],
 "metadata": {
  "kernelspec": {
   "display_name": "Python 3",
   "language": "python",
   "name": "python3"
  },
  "language_info": {
   "codemirror_mode": {
    "name": "ipython",
    "version": 3
   },
   "file_extension": ".py",
   "mimetype": "text/x-python",
   "name": "python",
   "nbconvert_exporter": "python",
   "pygments_lexer": "ipython3",
   "version": "3.11.13"
  }
 },
 "nbformat": 4,
 "nbformat_minor": 5
}
