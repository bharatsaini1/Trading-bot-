{
 "cells": [
  {
   "cell_type": "code",
   "execution_count": 24,
   "id": "9bb82e46",
   "metadata": {},
   "outputs": [],
   "source": [
    "import pandas as pd \n",
    "import MetaTrader5 as mt5"
   ]
  },
  {
   "cell_type": "code",
   "execution_count": 25,
   "id": "308db698",
   "metadata": {},
   "outputs": [
    {
     "data": {
      "text/plain": [
       "True"
      ]
     },
     "execution_count": 25,
     "metadata": {},
     "output_type": "execute_result"
    }
   ],
   "source": [
    "mt5.initialize()"
   ]
  },
  {
   "cell_type": "code",
   "execution_count": 26,
   "id": "5577319e",
   "metadata": {},
   "outputs": [
    {
     "name": "stdout",
     "output_type": "stream",
     "text": [
      "Account Number: 52219537\n"
     ]
    }
   ],
   "source": [
    "#get info about the account\n",
    "account_info = mt5.account_info()\n",
    "print(\"Account Number:\", account_info.login)"
   ]
  },
  {
   "cell_type": "code",
   "execution_count": 27,
   "id": "4803cd8f",
   "metadata": {},
   "outputs": [
    {
     "data": {
      "text/plain": [
       "2"
      ]
     },
     "execution_count": 27,
     "metadata": {},
     "output_type": "execute_result"
    }
   ],
   "source": [
    "## total number of orders of painding orders\n",
    "num_orders = mt5.orders_total()\n",
    "num_orders"
   ]
  },
  {
   "cell_type": "code",
   "execution_count": 28,
   "id": "dbdae865",
   "metadata": {},
   "outputs": [
    {
     "data": {
      "text/plain": [
       "(TradeOrder(ticket=1149014321, time_setup=1752785248, time_setup_msc=1752785248261, time_done=0, time_done_msc=0, time_expiration=0, type=2, type_time=0, type_filling=2, state=1, magic=0, position_id=0, position_by_id=0, reason=0, volume_initial=0.01, volume_current=0.01, price_open=3312.31, sl=0.0, tp=0.0, price_current=3338.0, price_stoplimit=0.0, symbol='XAUUSD', comment='', external_id=''),\n",
       " TradeOrder(ticket=1149016897, time_setup=1752785440, time_setup_msc=1752785440332, time_done=0, time_done_msc=0, time_expiration=0, type=2, type_time=0, type_filling=2, state=1, magic=0, position_id=0, position_by_id=0, reason=0, volume_initial=0.01, volume_current=0.01, price_open=3318.69, sl=0.0, tp=0.0, price_current=3338.0, price_stoplimit=0.0, symbol='XAUUSD', comment='', external_id=''))"
      ]
     },
     "execution_count": 28,
     "metadata": {},
     "output_type": "execute_result"
    }
   ],
   "source": [
    "## list of  orders painding orders \n",
    "orders = mt5.orders_get() \n",
    "orders "
   ]
  },
  {
   "cell_type": "code",
   "execution_count": 36,
   "id": "6ddd64ce",
   "metadata": {},
   "outputs": [
    {
     "data": {
      "text/plain": [
       "1"
      ]
     },
     "execution_count": 36,
     "metadata": {},
     "output_type": "execute_result"
    }
   ],
   "source": [
    "# total numbert of positions \n",
    "num_positions = mt5.positions_total()\n",
    "num_positions"
   ]
  },
  {
   "cell_type": "code",
   "execution_count": 30,
   "id": "309dd37b",
   "metadata": {},
   "outputs": [],
   "source": [
    "# number of history orders\n",
    "history_orders = mt5.history_orders_get()\n",
    "history_orders  "
   ]
  },
  {
   "cell_type": "code",
   "execution_count": 37,
   "id": "5febda85",
   "metadata": {},
   "outputs": [
    {
     "data": {
      "text/plain": [
       "(TradePosition(ticket=1149061101, time=1752789326, time_msc=1752789326352, time_update=1752789326, time_update_msc=1752789326352, type=0, magic=234000, identifier=1149061101, reason=3, volume=2.0, price_open=1.15829, sl=0.0, tp=0.0, price_current=1.15853, swap=0.0, profit=48.0, symbol='EURUSD', comment='Test order', external_id=''),)"
      ]
     },
     "execution_count": 37,
     "metadata": {},
     "output_type": "execute_result"
    }
   ],
   "source": [
    "# lists of positions \n",
    "positions = mt5.positions_get()\n",
    "positions\n"
   ]
  },
  {
   "cell_type": "code",
   "execution_count": 34,
   "id": "1fd67014",
   "metadata": {},
   "outputs": [
    {
     "name": "stdout",
     "output_type": "stream",
     "text": [
      "OrderSendResult(retcode=10009, deal=937193284, order=1149063033, volume=2.0, price=1.15846, bid=1.15846, ask=1.15846, comment='Request executed', request_id=2257441315, retcode_external=0, request=TradeRequest(action=1, magic=234000, order=0, symbol='EURUSD', volume=2.0, price=1.15846, stoplimit=0.0, sl=0.0, tp=0.0, deviation=20, type=0, type_filling=1, type_time=0, expiration=0, comment='Test order', position=0, position_by=0))\n"
     ]
    }
   ],
   "source": [
    "## Send order # Example: Send a buy order for EURUSD\n",
    "request = {\n",
    "    \"action\": mt5.TRADE_ACTION_DEAL,\n",
    "    \"symbol\": \"EURUSD\",\n",
    "    \"volume\": 2.0,  # Volume in lots\n",
    "    \"type\": mt5.ORDER_TYPE_BUY,  # Order type (buy/sell)\n",
    "    \"price\": mt5.symbol_info_tick(\"EURUSD\").ask,\n",
    "    \"sl\": 0.0,  # Stop loss\n",
    "    \"tp\": 0.0,  # Take profit\n",
    "    \"deviation\": 20,  # Maximum price deviation\n",
    "    \"magic\": 234000,  # Magic number for the order\n",
    "    \"comment\": \"Test order\",\n",
    "    \"type_time\": mt5.ORDER_TIME_GTC,  # Good till canceled\n",
    "    \"type_filling\": mt5.ORDER_FILLING_IOC,  # Immediate or cancel\n",
    "}\n",
    "\n",
    "result = mt5.order_send(request)\n",
    "print(result)\n"
   ]
  },
  {
   "cell_type": "code",
   "execution_count": 38,
   "id": "19b0293d",
   "metadata": {},
   "outputs": [
    {
     "name": "stdout",
     "output_type": "stream",
     "text": [
      "OrderSendResult(retcode=10009, deal=937196013, order=1149066897, volume=2.0, price=1.15858, bid=1.15858, ask=1.15858, comment='Request executed', request_id=2257441317, retcode_external=0, request=TradeRequest(action=1, magic=234000, order=0, symbol='EURUSD', volume=2.0, price=1.15858, stoplimit=0.0, sl=0.0, tp=0.0, deviation=20, type=1, type_filling=1, type_time=0, expiration=0, comment='Close order', position=1149061101, position_by=0))\n"
     ]
    }
   ],
   "source": [
    "#closing an position \n",
    "\n",
    "request_close = {\n",
    "    \"action\": mt5.TRADE_ACTION_DEAL,\n",
    "    \"symbol\": \"EURUSD\",\n",
    "    \"volume\": 2.0,  # Volume in lots\n",
    "    \"type\": mt5.ORDER_TYPE_SELL,  # Order type (buy/sell)\n",
    "    \"position\":1149061101 ,  # Position ticket to close\n",
    "    \"price\": mt5.symbol_info_tick(\"EURUSD\").bid,\n",
    "    \"sl\": 0.0,  # Stop loss\n",
    "    \"tp\": 0.0,  # Take profit\n",
    "    \"deviation\": 20,  # Maximum price deviation \n",
    "    \"magic\": 234000,  # Magic number for the order\n",
    "    \"comment\": \"Close order\",\n",
    "    \"type_time\": mt5.ORDER_TIME_GTC,  # Good till canceled\n",
    "    \"type_filling\": mt5.ORDER_FILLING_IOC,  # Immediate or cancel\n",
    "}\n",
    "result_close = mt5.order_send(request_close)\n",
    "print(result_close)"
   ]
  },
  {
   "cell_type": "code",
   "execution_count": null,
   "id": "aafbad5c",
   "metadata": {},
   "outputs": [],
   "source": []
  }
 ],
 "metadata": {
  "kernelspec": {
   "display_name": "Python 3",
   "language": "python",
   "name": "python3"
  },
  "language_info": {
   "codemirror_mode": {
    "name": "ipython",
    "version": 3
   },
   "file_extension": ".py",
   "mimetype": "text/x-python",
   "name": "python",
   "nbconvert_exporter": "python",
   "pygments_lexer": "ipython3",
   "version": "3.11.13"
  }
 },
 "nbformat": 4,
 "nbformat_minor": 5
}
